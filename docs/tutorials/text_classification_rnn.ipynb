{
  "cells": [
    {
      "cell_type": "markdown",
      "metadata": {
        "id": "hX4n9TsbGw-f"
      },
      "source": [
        "##### Copyright 2018 The TensorFlow Authors."
      ]
    },
    {
      "cell_type": "code",
      "execution_count": null,
      "metadata": {
        "cellView": "form",
        "id": "0nbI5DtDGw-i"
      },
      "outputs": [],
      "source": [
        "#@title Licensed under the Apache License, Version 2.0 (the \"License\");\n",
        "# you may not use this file except in compliance with the License.\n",
        "# You may obtain a copy of the License at\n",
        "#\n",
        "# https://www.apache.org/licenses/LICENSE-2.0\n",
        "#\n",
        "# Unless required by applicable law or agreed to in writing, software\n",
        "# distributed under the License is distributed on an \"AS IS\" BASIS,\n",
        "# WITHOUT WARRANTIES OR CONDITIONS OF ANY KIND, either express or implied.\n",
        "# See the License for the specific language governing permissions and\n",
        "# limitations under the License."
      ]
    },
    {
      "cell_type": "markdown",
      "metadata": {
        "id": "9TnJztDZGw-n"
      },
      "source": [
        "# Text classification with an RNN"
      ]
    },
    {
      "cell_type": "markdown",
      "metadata": {
        "id": "AfN3bMR5Gw-o"
      },
      "source": [
        "<table class=\"tfo-notebook-buttons\" align=\"left\">\n",
        "  <td>\n",
        "    <a target=\"_blank\" href=\"https://www.tensorflow.org/text/tutorials/text_classification_rnn\"><img src=\"https://www.tensorflow.org/images/tf_logo_32px.png\" />View on TensorFlow.org</a>\n",
        "  </td>\n",
        "  <td>\n",
        "    <a target=\"_blank\" href=\"https://colab.research.google.com/github/tensorflow/text/blob/master/docs/tutorials/text_classification_rnn.ipynb\"><img src=\"https://www.tensorflow.org/images/colab_logo_32px.png\" />Run in Google Colab</a>\n",
        "  </td>\n",
        "  <td>\n",
        "    <a target=\"_blank\" href=\"https://github.com/tensorflow/text/blob/master/docs/tutorials/text_classification_rnn.ipynb\"><img src=\"https://www.tensorflow.org/images/GitHub-Mark-32px.png\" />View source on GitHub</a>\n",
        "  </td>\n",
        "  <td>\n",
        "    <a href=\"https://storage.googleapis.com/tensorflow_docs/text/docs/tutorials/text_classification_rnn.ipynb\"><img src=\"https://www.tensorflow.org/images/download_logo_32px.png\" />Download notebook</a>\n",
        "  </td>\n",
        "</table>"
      ]
    },
    {
      "cell_type": "markdown",
      "metadata": {
        "id": "lUWearf0Gw-p"
      },
      "source": [
        "This text classification tutorial trains a [recurrent neural network](https://developers.google.com/machine-learning/glossary/#recurrent_neural_network) on the [IMDB large movie review dataset](http://ai.stanford.edu/~amaas/data/sentiment/) for sentiment analysis."
      ]
    },
    {
      "cell_type": "markdown",
      "metadata": {
        "id": "_2VQo4bajwUU"
      },
      "source": [
        "## Setup"
      ]
    },
    {
      "cell_type": "code",
      "execution_count": 1,
      "metadata": {
        "id": "z682XYsrjkY9"
      },
      "outputs": [],
      "source": [
        "import numpy as np\n",
        "\n",
        "import tensorflow_datasets as tfds\n",
        "import tensorflow as tf\n",
        "\n",
        "tfds.disable_progress_bar()"
      ]
    },
    {
      "cell_type": "markdown",
      "metadata": {
        "id": "1rXHa-w9JZhb"
      },
      "source": [
        "Import `matplotlib` and create a helper function to plot graphs:"
      ]
    },
    {
      "cell_type": "code",
      "execution_count": 2,
      "metadata": {
        "id": "Mp1Z7P9pYRSK"
      },
      "outputs": [],
      "source": [
        "import matplotlib.pyplot as plt\n",
        "\n",
        "\n",
        "def plot_graphs(history, metric):\n",
        "  plt.plot(history.history[metric])\n",
        "  plt.plot(history.history['val_'+metric], '')\n",
        "  plt.xlabel(\"Epochs\")\n",
        "  plt.ylabel(metric)\n",
        "  plt.legend([metric, 'val_'+metric])"
      ]
    },
    {
      "cell_type": "markdown",
      "metadata": {
        "id": "pRmMubr0jrE2"
      },
      "source": [
        "## Setup input pipeline\n",
        "\n",
        "\n",
        "The IMDB large movie review dataset is a *binary classification* dataset—all the reviews have either a *positive* or *negative* sentiment.\n",
        "\n",
        "Download the dataset using [TFDS](https://www.tensorflow.org/datasets). See the [loading text tutorial](https://www.tensorflow.org/tutorials/load_data/text) for details on how to load this sort of data manually.\n"
      ]
    },
    {
      "cell_type": "code",
      "execution_count": 3,
      "metadata": {
        "id": "SHRwRoP2nVHX",
        "outputId": "62a0d033-2818-4eb7-f886-df1a6ed31456",
        "colab": {
          "base_uri": "https://localhost:8080/"
        }
      },
      "outputs": [
        {
          "output_type": "stream",
          "name": "stdout",
          "text": [
            "\u001b[1mDownloading and preparing dataset imdb_reviews/plain_text/1.0.0 (download: 80.23 MiB, generated: Unknown size, total: 80.23 MiB) to /root/tensorflow_datasets/imdb_reviews/plain_text/1.0.0...\u001b[0m\n",
            "Shuffling and writing examples to /root/tensorflow_datasets/imdb_reviews/plain_text/1.0.0.incompleteFT6WRN/imdb_reviews-train.tfrecord\n",
            "Shuffling and writing examples to /root/tensorflow_datasets/imdb_reviews/plain_text/1.0.0.incompleteFT6WRN/imdb_reviews-test.tfrecord\n",
            "Shuffling and writing examples to /root/tensorflow_datasets/imdb_reviews/plain_text/1.0.0.incompleteFT6WRN/imdb_reviews-unsupervised.tfrecord\n"
          ]
        },
        {
          "output_type": "stream",
          "name": "stderr",
          "text": [
            "WARNING:absl:Dataset is using deprecated text encoder API which will be removed soon. Please use the plain_text version of the dataset and migrate to `tensorflow_text`.\n"
          ]
        },
        {
          "output_type": "stream",
          "name": "stdout",
          "text": [
            "\u001b[1mDataset imdb_reviews downloaded and prepared to /root/tensorflow_datasets/imdb_reviews/plain_text/1.0.0. Subsequent calls will reuse this data.\u001b[0m\n"
          ]
        },
        {
          "output_type": "execute_result",
          "data": {
            "text/plain": [
              "(TensorSpec(shape=(), dtype=tf.string, name=None),\n",
              " TensorSpec(shape=(), dtype=tf.int64, name=None))"
            ]
          },
          "metadata": {},
          "execution_count": 3
        }
      ],
      "source": [
        "dataset, info = tfds.load('imdb_reviews', with_info=True,\n",
        "                          as_supervised=True)\n",
        "train_dataset, test_dataset = dataset['train'], dataset['test']\n",
        "\n",
        "train_dataset.element_spec"
      ]
    },
    {
      "cell_type": "markdown",
      "metadata": {
        "id": "nWA4c2ir7g6p"
      },
      "source": [
        "Initially this returns a dataset of (text, label pairs):"
      ]
    },
    {
      "cell_type": "code",
      "execution_count": 4,
      "metadata": {
        "id": "vd4_BGKyurao",
        "outputId": "885e10de-a7c6-431b-c30a-62557533397e",
        "colab": {
          "base_uri": "https://localhost:8080/"
        }
      },
      "outputs": [
        {
          "output_type": "stream",
          "name": "stdout",
          "text": [
            "text:  b\"This was an absolutely terrible movie. Don't be lured in by Christopher Walken or Michael Ironside. Both are great actors, but this must simply be their worst role in history. Even their great acting could not redeem this movie's ridiculous storyline. This movie is an early nineties US propaganda piece. The most pathetic scenes were those when the Columbian rebels were making their cases for revolutions. Maria Conchita Alonso appeared phony, and her pseudo-love affair with Walken was nothing but a pathetic emotional plug in a movie that was devoid of any real meaning. I am disappointed that there are movies like this, ruining actor's like Christopher Walken's good name. I could barely sit through it.\"\n",
            "label:  0\n"
          ]
        }
      ],
      "source": [
        "for example, label in train_dataset.take(1):\n",
        "  print('text: ', example.numpy())\n",
        "  print('label: ', label.numpy())"
      ]
    },
    {
      "cell_type": "markdown",
      "metadata": {
        "id": "z2qVJzcEluH_"
      },
      "source": [
        "Next shuffle the data for training and create batches of these `(text, label)` pairs:"
      ]
    },
    {
      "cell_type": "code",
      "execution_count": 5,
      "metadata": {
        "id": "dDsCaZCDYZgm"
      },
      "outputs": [],
      "source": [
        "BUFFER_SIZE = 10000\n",
        "BATCH_SIZE = 64"
      ]
    },
    {
      "cell_type": "code",
      "execution_count": 6,
      "metadata": {
        "id": "VznrltNOnUc5"
      },
      "outputs": [],
      "source": [
        "train_dataset = train_dataset.shuffle(BUFFER_SIZE).batch(BATCH_SIZE).prefetch(tf.data.AUTOTUNE)\n",
        "test_dataset = test_dataset.batch(BATCH_SIZE).prefetch(tf.data.AUTOTUNE)"
      ]
    },
    {
      "cell_type": "code",
      "execution_count": 7,
      "metadata": {
        "id": "jqkvdcFv41wC",
        "outputId": "35c70777-0aad-4152-9e21-3f4d42f8a50a",
        "colab": {
          "base_uri": "https://localhost:8080/"
        }
      },
      "outputs": [
        {
          "output_type": "stream",
          "name": "stdout",
          "text": [
            "texts:  [b'There is no way to describe how really, really, really bad this movie is. It\\'s a shame that I actually sat through this movie, this very tiresome and predictable movie. What\\'s wrong with it? Acting: There is not one performance that is even remotely close to even being sub-par (atleast they are all very pretty). Soundtrack (songs): \"If we get Orgy on the soundtrack then everyone will know that they are watching a horror film!\"; Soundtrack (score): Okay, but anyone with a keyboard can make an okay soundtrack these days. Don\\'t even get me started on the \"What the hell?\" moments, here are a few: Killer can move at the speed of light--door opens actress turns, no one is there, turns back, there is something sitting in front of her.; Out of now where The killer shows up with a power drill, a really big one! The filmmakers get points for at least plugging it in, but can I really believe that the killer took the time to find the power outlet to plug it in. I feel like one of the guards at the beginning of Holy Grail and want to say \"Where\\'d you get the power drill?\". I could go on and on about how bad this film is but I only have 1000 words. I will give this 2 out of ten stars. One star for making me laugh and another star for all the cleavage. Seriously, do not waste your time with this one.'\n",
            " b\"First and foremost, I loved the novel by Ray Bradbury. It's the kind of horror that gets under your skin and sticks with you later. It was one of his best books, with, you know, Fahrenheit 451 and Dandelion Wine. I as just hoping that this movie would be all right. It had lots of chances, with a great cast, like Jason Robards and Jonathn Pryce. And Bradbury even wrote the script himself. And on top of all that, it has PAM GRIER!<br /><br />How could it fail?<br /><br />There may be spoilers within.<br /><br />First of all, it was dumbed down. Much of the horror from the book was lost as Bradbury must have been forced to keep the violence to a minimum. All the visuals from the book...gone. Everything that made you squirm...gone.<br /><br />And then there's the acting. Like a lot of movies that Disney threw out in the 80s, the kids in this movie cannot act. And, this bugged me a lot, neither of them looked 13 but 9 or 10. Their strong friendship wasn't addressed. It was more like they were acquaintaces. <br /><br />You'd think Jason Robards and Jonathan Pryce could pull this off in their roles of Mr. Halloway and Mr. Dark. But here it's like they just don't care. All they want to do is somehow pay off some mortgage or something. This is far from being some of their best performances. <br /><br />Pam Grier was fine as the witch, but the charecter of the Dust Witch herself wasn't well pulled off. She's a lot less evil and doesn't have the presence as she did in the book. <br /><br />And everything that was left out of the book. The ballon night chase, the marking of Jim's house, the real death of Mr. Dark, what happened to Mr. Coogan on the merry-go-round, the fate of the lightening rod salesman, the real death of the witch, and oh so much more. <br /><br />And the special effects were bad, even for the 80s. The merry-go-round of doom for one thing with the superimposed horses going around wasn't really creepy, and that weird green mist that really had nothing to do with anything. <br /><br />I could keep going about how this movie ripped apart the original novel, but it makes blood boil. Don't see this movie but read the book. It's a classic of Bradbury.\"\n",
            " b'Though the movie may have been \"true\" to Lewis\\'s book (in that the script was basically word-for-word, verbatim), it failed to capture any of the grandeur that would otherwise be associated with an epic story like this. The mythical creatures (unicorns, centaurs, griffins, ghouls, ghosts) are *drawn* in, and as in the previous review, the green-screen flying sequence was very hard to swallow. I nearly laughed to death when I saw the humanoid beavers with their giant stiff suits and buck teeth; I nearly cried when I heard the wolf\\'s \"howl--\" a man in a grey fuzzy suit basically shrieking as loudly and as girlishly as he possibly could.<br /><br />All of the acting is tremendously forced, especially that of little Lucy Penvensie... I could only take so much indignation, desperation, and buck teeth in the (what felt like) fourteen hours of watching the movie. The actress who plays the White Witch, in all her histrionics, seems that she\\'d be more at home on stage, where a booming voice, spread arms, and a valiant effort at something Shakespearian would be more than welcome. <br /><br />The sets feel claustrophobic, whether the scenes are taking place indoors or outdoors. Indoors, it\\'s as if BBC could only afford to spend $100 on constructing a set, and so it is very small, and all the characters are constantly huddled together. The White Witch\\'s castle is a run-down, rotting countryside English castle filled with Styrofoam statues and bad lighting. When the Penvensie children are wandering through the woods-- actually, *any* scene in the woods-- feels like they are simply wandering around in circles. <br /><br />The only thing that looks decent in the film is Aslan, but you can bet that BBC probably blew the film\\'s entire budget on building the mechanical feline. It looks great when it\\'s standing still and before it starts speaking, but once it starts moving, you can\\'t help but pity the poor man who has to be the rear-end in the lion suit. <br /><br />Yes, if you are a hardcore Narnia fan, you may want to see this version, simply because it preserves every word that Lewis ever wrote-- but Lewis was certainly no screenwriter, and a lot of the dialogue feels chunky and awkward when on screen. During the scene in which the children are at the Beavers\\' and getting ready to flee from the wolves, Mrs. Beaver\\'s incessant, \"oh, just ONE more thing, dearies, and then we will be ready to go,\" punctuated by the children\\'s simultaneous cries and sighs and moans of \"NO, Mrs. Beaver, PLEASE!\" -- a scene of comic relief, so incongruous (they are supposed to be FLEEING from imminent danger, not wondering about whether to pack the sewing machine or not), detracts from the drama that the scene might otherwise have. In fact, the whole movie is peppered with directing faux pas such as these. <br /><br />I would recommend seeing the new Narnia (Disney 2005). The new movie, with updated effects, spectacular computer animation, great timing all around, and a gorgeous and scene- stealing White Witch (who plays her part with all the subtle evil of a seasoned politician, as opposed to a shrieking banshee) captures all of the grandeur and the magnificence of the world of Narnia without detracting the least bit from Lewis\\'s original vision (I think). Lucy is a lot cuter (NO buck teeth, YAY!), as are the beavers (and realistically-sized), and bratty BBC Edmund has nothing on the divine, Desperately-Hungry-for-Acceptance-Insecure-and- Angsting-with-an-Inferiority-Complex Edmund that the new Disney version fronts. <br /><br />Unless you\\'re the type who enjoys wasting time by making fun of campy movies, I would not recommend this film to anyone.']\n",
            "\n",
            "labels:  [0 0 0]\n"
          ]
        }
      ],
      "source": [
        "for example, label in train_dataset.take(1):\n",
        "  print('texts: ', example.numpy()[:3])\n",
        "  print()\n",
        "  print('labels: ', label.numpy()[:3])"
      ]
    },
    {
      "cell_type": "markdown",
      "metadata": {
        "id": "s5eWCo88voPY"
      },
      "source": [
        "## Create the text encoder"
      ]
    },
    {
      "cell_type": "markdown",
      "metadata": {
        "id": "TFevcItw15P_"
      },
      "source": [
        "The raw text loaded by `tfds` needs to be processed before it can be used in a model. The simplest way to process text for training is using the `TextVectorization` layer. This layer has many capabilities, but this tutorial sticks to the default behavior.\n",
        "\n",
        "Create the layer, and pass the dataset's text to the layer's `.adapt` method:"
      ]
    },
    {
      "cell_type": "code",
      "execution_count": 8,
      "metadata": {
        "id": "uC25Lu1Yvuqy"
      },
      "outputs": [],
      "source": [
        "VOCAB_SIZE = 1000\n",
        "encoder = tf.keras.layers.TextVectorization(\n",
        "    max_tokens=VOCAB_SIZE)\n",
        "encoder.adapt(train_dataset.map(lambda text, label: text))"
      ]
    },
    {
      "cell_type": "markdown",
      "metadata": {
        "id": "IuQzVBbe3Ldu"
      },
      "source": [
        "The `.adapt` method sets the layer's vocabulary. Here are the first 20 tokens. After the padding and unknown tokens they're sorted by frequency: "
      ]
    },
    {
      "cell_type": "code",
      "execution_count": 9,
      "metadata": {
        "id": "tBoyjjWg0Ac9",
        "outputId": "fe01fc52-84d1-4039-b36a-93e754226ffe",
        "colab": {
          "base_uri": "https://localhost:8080/"
        }
      },
      "outputs": [
        {
          "output_type": "execute_result",
          "data": {
            "text/plain": [
              "array(['', '[UNK]', 'the', 'and', 'a', 'of', 'to', 'is', 'in', 'it', 'i',\n",
              "       'this', 'that', 'br', 'was', 'as', 'for', 'with', 'movie', 'but'],\n",
              "      dtype='<U14')"
            ]
          },
          "metadata": {},
          "execution_count": 9
        }
      ],
      "source": [
        "vocab = np.array(encoder.get_vocabulary())\n",
        "vocab[:20]"
      ]
    },
    {
      "cell_type": "markdown",
      "metadata": {
        "id": "mjId5pua3jHQ"
      },
      "source": [
        "Once the vocabulary is set, the layer can encode text into indices. The tensors of indices are 0-padded to the longest sequence in the batch (unless you set a fixed `output_sequence_length`):"
      ]
    },
    {
      "cell_type": "code",
      "execution_count": 10,
      "metadata": {
        "id": "RGc7C9WiwRWs",
        "outputId": "387a1d4c-b3f4-437b-d990-73030105fbec",
        "colab": {
          "base_uri": "https://localhost:8080/"
        }
      },
      "outputs": [
        {
          "output_type": "execute_result",
          "data": {
            "text/plain": [
              "array([[ 48,   7,  57, ...,   0,   0,   0],\n",
              "       [ 86,   3,   1, ...,   0,   0,   0],\n",
              "       [149,   2,  18, ...,   0,   0,   0]])"
            ]
          },
          "metadata": {},
          "execution_count": 10
        }
      ],
      "source": [
        "encoded_example = encoder(example)[:3].numpy()\n",
        "encoded_example"
      ]
    },
    {
      "cell_type": "markdown",
      "metadata": {
        "id": "F5cjz0bS39IN"
      },
      "source": [
        "With the default settings, the process is not completely reversible. There are three main reasons for that:\n",
        "\n",
        "1. The default value for `preprocessing.TextVectorization`'s `standardize` argument is `\"lower_and_strip_punctuation\"`.\n",
        "2. The limited vocabulary size and lack of character-based fallback results in some unknown tokens."
      ]
    },
    {
      "cell_type": "code",
      "execution_count": 11,
      "metadata": {
        "id": "N_tD0QY5wXaK",
        "outputId": "a48a231b-212d-4aa1-b389-79ab102641d6",
        "colab": {
          "base_uri": "https://localhost:8080/"
        }
      },
      "outputs": [
        {
          "output_type": "stream",
          "name": "stdout",
          "text": [
            "Original:  b'There is no way to describe how really, really, really bad this movie is. It\\'s a shame that I actually sat through this movie, this very tiresome and predictable movie. What\\'s wrong with it? Acting: There is not one performance that is even remotely close to even being sub-par (atleast they are all very pretty). Soundtrack (songs): \"If we get Orgy on the soundtrack then everyone will know that they are watching a horror film!\"; Soundtrack (score): Okay, but anyone with a keyboard can make an okay soundtrack these days. Don\\'t even get me started on the \"What the hell?\" moments, here are a few: Killer can move at the speed of light--door opens actress turns, no one is there, turns back, there is something sitting in front of her.; Out of now where The killer shows up with a power drill, a really big one! The filmmakers get points for at least plugging it in, but can I really believe that the killer took the time to find the power outlet to plug it in. I feel like one of the guards at the beginning of Holy Grail and want to say \"Where\\'d you get the power drill?\". I could go on and on about how bad this film is but I only have 1000 words. I will give this 2 out of ten stars. One star for making me laugh and another star for all the cleavage. Seriously, do not waste your time with this one.'\n",
            "Round-trip:  there is no way to [UNK] how really really really bad this movie is its a shame that i actually [UNK] through this movie this very [UNK] and predictable movie whats wrong with it acting there is not one performance that is even [UNK] close to even being [UNK] [UNK] they are all very pretty soundtrack songs if we get [UNK] on the soundtrack then everyone will know that they are watching a horror film soundtrack score okay but anyone with a [UNK] can make an okay soundtrack these days dont even get me started on the what the hell moments here are a few killer can move at the [UNK] of [UNK] [UNK] actress turns no one is there turns back there is something [UNK] in [UNK] of her out of now where the killer shows up with a power [UNK] a really big one the filmmakers get points for at least [UNK] it in but can i really believe that the killer took the time to find the power [UNK] to [UNK] it in i feel like one of the [UNK] at the beginning of [UNK] [UNK] and want to say [UNK] you get the power [UNK] i could go on and on about how bad this film is but i only have [UNK] words i will give this 2 out of ten stars one star for making me laugh and another star for all the [UNK] seriously do not waste your time with this one                                                                                                                                                                                                                                                                                                                                                                                                                                                                                                                                                                                                                                                                                                                              \n",
            "\n",
            "Original:  b\"First and foremost, I loved the novel by Ray Bradbury. It's the kind of horror that gets under your skin and sticks with you later. It was one of his best books, with, you know, Fahrenheit 451 and Dandelion Wine. I as just hoping that this movie would be all right. It had lots of chances, with a great cast, like Jason Robards and Jonathn Pryce. And Bradbury even wrote the script himself. And on top of all that, it has PAM GRIER!<br /><br />How could it fail?<br /><br />There may be spoilers within.<br /><br />First of all, it was dumbed down. Much of the horror from the book was lost as Bradbury must have been forced to keep the violence to a minimum. All the visuals from the book...gone. Everything that made you squirm...gone.<br /><br />And then there's the acting. Like a lot of movies that Disney threw out in the 80s, the kids in this movie cannot act. And, this bugged me a lot, neither of them looked 13 but 9 or 10. Their strong friendship wasn't addressed. It was more like they were acquaintaces. <br /><br />You'd think Jason Robards and Jonathan Pryce could pull this off in their roles of Mr. Halloway and Mr. Dark. But here it's like they just don't care. All they want to do is somehow pay off some mortgage or something. This is far from being some of their best performances. <br /><br />Pam Grier was fine as the witch, but the charecter of the Dust Witch herself wasn't well pulled off. She's a lot less evil and doesn't have the presence as she did in the book. <br /><br />And everything that was left out of the book. The ballon night chase, the marking of Jim's house, the real death of Mr. Dark, what happened to Mr. Coogan on the merry-go-round, the fate of the lightening rod salesman, the real death of the witch, and oh so much more. <br /><br />And the special effects were bad, even for the 80s. The merry-go-round of doom for one thing with the superimposed horses going around wasn't really creepy, and that weird green mist that really had nothing to do with anything. <br /><br />I could keep going about how this movie ripped apart the original novel, but it makes blood boil. Don't see this movie but read the book. It's a classic of Bradbury.\"\n",
            "Round-trip:  first and [UNK] i loved the novel by [UNK] [UNK] its the kind of horror that gets under your [UNK] and [UNK] with you later it was one of his best [UNK] with you know [UNK] [UNK] and [UNK] [UNK] i as just [UNK] that this movie would be all right it had lots of [UNK] with a great cast like [UNK] [UNK] and [UNK] [UNK] and [UNK] even [UNK] the script himself and on top of all that it has [UNK] [UNK] br how could it [UNK] br there may be [UNK] [UNK] br first of all it was [UNK] down much of the horror from the book was lost as [UNK] must have been forced to keep the violence to a [UNK] all the [UNK] from the [UNK] everything that made you [UNK] br and then theres the acting like a lot of movies that disney [UNK] out in the 80s the kids in this movie cannot act and this [UNK] me a lot [UNK] of them looked [UNK] but [UNK] or 10 their strong [UNK] wasnt [UNK] it was more like they were [UNK] br br [UNK] think [UNK] [UNK] and [UNK] [UNK] could [UNK] this off in their roles of mr [UNK] and mr dark but here its like they just dont care all they want to do is somehow pay off some [UNK] or something this is far from being some of their best performances br br [UNK] [UNK] was fine as the [UNK] but the [UNK] of the [UNK] [UNK] herself wasnt well [UNK] off shes a lot less evil and doesnt have the [UNK] as she did in the book br br and everything that was left out of the book the [UNK] night [UNK] the [UNK] of [UNK] house the real death of mr dark what happened to mr [UNK] on the [UNK] the [UNK] of the [UNK] [UNK] [UNK] the real death of the [UNK] and oh so much more br br and the special effects were bad even for the 80s the [UNK] of [UNK] for one thing with the [UNK] [UNK] going around wasnt really creepy and that weird [UNK] [UNK] that really had nothing to do with anything br br i could keep going about how this movie [UNK] apart the original novel but it makes blood [UNK] dont see this movie but read the book its a classic of [UNK]                                                                                                                                                                                                                                                                                                                                                                                                                                                                                                                                                                   \n",
            "\n",
            "Original:  b'Though the movie may have been \"true\" to Lewis\\'s book (in that the script was basically word-for-word, verbatim), it failed to capture any of the grandeur that would otherwise be associated with an epic story like this. The mythical creatures (unicorns, centaurs, griffins, ghouls, ghosts) are *drawn* in, and as in the previous review, the green-screen flying sequence was very hard to swallow. I nearly laughed to death when I saw the humanoid beavers with their giant stiff suits and buck teeth; I nearly cried when I heard the wolf\\'s \"howl--\" a man in a grey fuzzy suit basically shrieking as loudly and as girlishly as he possibly could.<br /><br />All of the acting is tremendously forced, especially that of little Lucy Penvensie... I could only take so much indignation, desperation, and buck teeth in the (what felt like) fourteen hours of watching the movie. The actress who plays the White Witch, in all her histrionics, seems that she\\'d be more at home on stage, where a booming voice, spread arms, and a valiant effort at something Shakespearian would be more than welcome. <br /><br />The sets feel claustrophobic, whether the scenes are taking place indoors or outdoors. Indoors, it\\'s as if BBC could only afford to spend $100 on constructing a set, and so it is very small, and all the characters are constantly huddled together. The White Witch\\'s castle is a run-down, rotting countryside English castle filled with Styrofoam statues and bad lighting. When the Penvensie children are wandering through the woods-- actually, *any* scene in the woods-- feels like they are simply wandering around in circles. <br /><br />The only thing that looks decent in the film is Aslan, but you can bet that BBC probably blew the film\\'s entire budget on building the mechanical feline. It looks great when it\\'s standing still and before it starts speaking, but once it starts moving, you can\\'t help but pity the poor man who has to be the rear-end in the lion suit. <br /><br />Yes, if you are a hardcore Narnia fan, you may want to see this version, simply because it preserves every word that Lewis ever wrote-- but Lewis was certainly no screenwriter, and a lot of the dialogue feels chunky and awkward when on screen. During the scene in which the children are at the Beavers\\' and getting ready to flee from the wolves, Mrs. Beaver\\'s incessant, \"oh, just ONE more thing, dearies, and then we will be ready to go,\" punctuated by the children\\'s simultaneous cries and sighs and moans of \"NO, Mrs. Beaver, PLEASE!\" -- a scene of comic relief, so incongruous (they are supposed to be FLEEING from imminent danger, not wondering about whether to pack the sewing machine or not), detracts from the drama that the scene might otherwise have. In fact, the whole movie is peppered with directing faux pas such as these. <br /><br />I would recommend seeing the new Narnia (Disney 2005). The new movie, with updated effects, spectacular computer animation, great timing all around, and a gorgeous and scene- stealing White Witch (who plays her part with all the subtle evil of a seasoned politician, as opposed to a shrieking banshee) captures all of the grandeur and the magnificence of the world of Narnia without detracting the least bit from Lewis\\'s original vision (I think). Lucy is a lot cuter (NO buck teeth, YAY!), as are the beavers (and realistically-sized), and bratty BBC Edmund has nothing on the divine, Desperately-Hungry-for-Acceptance-Insecure-and- Angsting-with-an-Inferiority-Complex Edmund that the new Disney version fronts. <br /><br />Unless you\\'re the type who enjoys wasting time by making fun of campy movies, I would not recommend this film to anyone.'\n",
            "Round-trip:  though the movie may have been true to [UNK] book in that the script was basically [UNK] [UNK] it [UNK] to [UNK] any of the [UNK] that would otherwise be [UNK] with an [UNK] story like this the [UNK] [UNK] [UNK] [UNK] [UNK] [UNK] [UNK] are [UNK] in and as in the previous review the [UNK] [UNK] sequence was very hard to [UNK] i nearly [UNK] to death when i saw the [UNK] [UNK] with their [UNK] [UNK] [UNK] and [UNK] [UNK] i nearly [UNK] when i heard the [UNK] [UNK] a man in a [UNK] [UNK] [UNK] basically [UNK] as [UNK] and as [UNK] as he possibly [UNK] br all of the acting is [UNK] forced especially that of little [UNK] [UNK] i could only take so much [UNK] [UNK] and [UNK] [UNK] in the what felt like [UNK] hours of watching the movie the actress who plays the white [UNK] in all her [UNK] seems that [UNK] be more at home on stage where a [UNK] voice [UNK] [UNK] and a [UNK] effort at something [UNK] would be more than [UNK] br br the sets feel [UNK] whether the scenes are taking place [UNK] or [UNK] [UNK] its as if [UNK] could only [UNK] to [UNK] [UNK] on [UNK] a set and so it is very small and all the characters are [UNK] [UNK] together the white [UNK] [UNK] is a [UNK] [UNK] [UNK] english [UNK] [UNK] with [UNK] [UNK] and bad [UNK] when the [UNK] children are [UNK] through the [UNK] actually any scene in the [UNK] feels like they are simply [UNK] around in [UNK] br br the only thing that looks decent in the film is [UNK] but you can [UNK] that [UNK] probably [UNK] the films entire budget on [UNK] the [UNK] [UNK] it looks great when its [UNK] still and before it starts [UNK] but once it starts moving you cant help but [UNK] the poor man who has to be the [UNK] in the [UNK] [UNK] br br yes if you are a [UNK] [UNK] fan you may want to see this version simply because it [UNK] every word that [UNK] ever [UNK] but [UNK] was certainly no [UNK] and a lot of the dialogue feels [UNK] and [UNK] when on screen during the scene in which the children are at the [UNK] and getting [UNK] to [UNK] from the [UNK] [UNK] [UNK] [UNK] oh just one more thing [UNK] and then we will be [UNK] to go [UNK] by the [UNK] [UNK] [UNK] and [UNK] and [UNK] of no [UNK] [UNK] please a scene of comic [UNK] so [UNK] they are supposed to be [UNK] from [UNK] [UNK] not [UNK] about whether to [UNK] the [UNK] [UNK] or not [UNK] from the drama that the scene might otherwise have in fact the whole movie is [UNK] with directing [UNK] [UNK] such as these br br i would recommend seeing the new [UNK] disney [UNK] the new movie with [UNK] effects [UNK] [UNK] animation great [UNK] all around and a [UNK] and scene [UNK] white [UNK] who plays her part with all the [UNK] evil of a [UNK] [UNK] as [UNK] to a [UNK] [UNK] [UNK] all of the [UNK] and the [UNK] of the world of [UNK] without [UNK] the least bit from [UNK] original [UNK] i think [UNK] is a lot [UNK] no [UNK] [UNK] [UNK] as are the [UNK] and [UNK] and [UNK] [UNK] [UNK] has nothing on the [UNK] [UNK] [UNK] [UNK] that the new disney version [UNK] br br unless youre the type who [UNK] [UNK] time by making fun of [UNK] movies i would not recommend this film to anyone                                                                                                                                                                                                                                                                                                                                                \n",
            "\n"
          ]
        }
      ],
      "source": [
        "for n in range(3):\n",
        "  print(\"Original: \", example[n].numpy())\n",
        "  print(\"Round-trip: \", \" \".join(vocab[encoded_example[n]]))\n",
        "  print()"
      ]
    },
    {
      "cell_type": "markdown",
      "metadata": {
        "id": "bjUqGVBxGw-t"
      },
      "source": [
        "## Create the model"
      ]
    },
    {
      "cell_type": "markdown",
      "metadata": {
        "id": "W7zsmInBOCPO"
      },
      "source": [
        "![A drawing of the information flow in the model](https://github.com/tensorflow/text/blob/master/docs/tutorials/images/bidirectional.png?raw=1)"
      ]
    },
    {
      "cell_type": "markdown",
      "metadata": {
        "id": "bgs6nnSTGw-t"
      },
      "source": [
        "Above is a diagram of the model. \n",
        "\n",
        "1. This model can be build as a `tf.keras.Sequential`.\n",
        "\n",
        "2. The first layer is the `encoder`, which converts the text to a sequence of token indices.\n",
        "\n",
        "3. After the encoder is an embedding layer. An embedding layer stores one vector per word. When called, it converts the sequences of word indices to sequences of vectors. These vectors are trainable. After training (on enough data), words with similar meanings often have similar vectors.\n",
        "\n",
        "  This index-lookup is much more efficient than the equivalent operation of passing a one-hot encoded vector through a `tf.keras.layers.Dense` layer.\n",
        "\n",
        "4. A recurrent neural network (RNN) processes sequence input by iterating through the elements. RNNs pass the outputs from one timestep to their input on the next timestep.\n",
        "\n",
        "  The `tf.keras.layers.Bidirectional` wrapper can also be used with an RNN layer. This propagates the input forward and backwards through the RNN layer and then concatenates the final output. \n",
        "\n",
        "  * The main advantage of a bidirectional RNN is that the signal from the beginning of the input doesn't need to be processed all the way through every timestep to affect the output.  \n",
        "\n",
        "  * The main disadvantage of a bidirectional RNN is that you can't efficiently stream predictions as words are being added to the end.\n",
        "\n",
        "5. After the RNN has converted the sequence to a single vector the two `layers.Dense` do some final processing, and convert from this vector representation to a single logit as the classification output. \n"
      ]
    },
    {
      "cell_type": "markdown",
      "metadata": {
        "id": "V4fodCI7soQi"
      },
      "source": [
        "The code to implement this is below:"
      ]
    },
    {
      "cell_type": "code",
      "execution_count": 12,
      "metadata": {
        "id": "LwfoBkmRYcP3"
      },
      "outputs": [],
      "source": [
        "model = tf.keras.Sequential([\n",
        "    encoder,\n",
        "    tf.keras.layers.Embedding(\n",
        "        input_dim=len(encoder.get_vocabulary()),\n",
        "        output_dim=64,\n",
        "        # Use masking to handle the variable sequence lengths\n",
        "        mask_zero=True),\n",
        "    tf.keras.layers.Bidirectional(tf.keras.layers.LSTM(64)),\n",
        "    tf.keras.layers.Dense(64, activation='relu'),\n",
        "    tf.keras.layers.Dense(1)\n",
        "])"
      ]
    },
    {
      "cell_type": "markdown",
      "metadata": {
        "id": "QIGmIGkkouUb"
      },
      "source": [
        "Please note that Keras sequential model is used here since all the layers in the model only have single input and produce single output. In case you want to use stateful RNN layer, you might want to build your model with Keras functional API or model subclassing so that you can retrieve and reuse the RNN layer states. Please check [Keras RNN guide](https://www.tensorflow.org/guide/keras/rnn#rnn_state_reuse) for more details."
      ]
    },
    {
      "cell_type": "markdown",
      "metadata": {
        "id": "kF-PsCk1LwjY"
      },
      "source": [
        "The embedding layer [uses masking](https://www.tensorflow.org/guide/keras/masking_and_padding) to handle the varying sequence-lengths. All the layers after the `Embedding` support masking:"
      ]
    },
    {
      "cell_type": "code",
      "execution_count": 13,
      "metadata": {
        "id": "87a8-CwfKebw",
        "outputId": "074d930d-d161-4b48-daf0-d3c4ee0d188f",
        "colab": {
          "base_uri": "https://localhost:8080/"
        }
      },
      "outputs": [
        {
          "output_type": "stream",
          "name": "stdout",
          "text": [
            "[False, True, True, True, True]\n"
          ]
        }
      ],
      "source": [
        "print([layer.supports_masking for layer in model.layers])"
      ]
    },
    {
      "cell_type": "markdown",
      "metadata": {
        "id": "ZlS0iaUIWLpI"
      },
      "source": [
        "To confirm that this works as expected, evaluate a sentence twice. First, alone so there's no padding to mask:"
      ]
    },
    {
      "cell_type": "code",
      "execution_count": 15,
      "metadata": {
        "id": "O41gw3KfWHus",
        "outputId": "b02f641b-9f88-4ee1-9196-86b19b850676",
        "colab": {
          "base_uri": "https://localhost:8080/"
        }
      },
      "outputs": [
        {
          "output_type": "stream",
          "name": "stdout",
          "text": [
            "[0.01126965]\n"
          ]
        }
      ],
      "source": [
        "# predict on a sample text without padding.\n",
        "\n",
        "sample_text = ('The movie was cool. The animation and the graphics '\n",
        "               'were out of this world. I would recommend this movie.')\n",
        "predictions = model.predict(np.array([sample_text]))\n",
        "print(predictions[0])"
      ]
    },
    {
      "cell_type": "markdown",
      "metadata": {
        "id": "K0VQmGnEWcuz"
      },
      "source": [
        "Now, evaluate it again in a batch with a longer sentence. The result should be identical:"
      ]
    },
    {
      "cell_type": "code",
      "execution_count": 16,
      "metadata": {
        "id": "UIgpuTeFNDzq",
        "outputId": "f74e79fc-cf0c-4c58-ed45-c2e2b515a393",
        "colab": {
          "base_uri": "https://localhost:8080/"
        }
      },
      "outputs": [
        {
          "output_type": "stream",
          "name": "stdout",
          "text": [
            "[0.01126966]\n"
          ]
        }
      ],
      "source": [
        "# predict on a sample text with padding\n",
        "\n",
        "padding = \"the \" * 2000\n",
        "predictions = model.predict(np.array([sample_text, padding]))\n",
        "print(predictions[0])"
      ]
    },
    {
      "cell_type": "markdown",
      "metadata": {
        "id": "sRI776ZcH3Tf"
      },
      "source": [
        "Compile the Keras model to configure the training process:"
      ]
    },
    {
      "cell_type": "code",
      "execution_count": 17,
      "metadata": {
        "id": "kj2xei41YZjC"
      },
      "outputs": [],
      "source": [
        "model.compile(loss=tf.keras.losses.BinaryCrossentropy(from_logits=True),\n",
        "              optimizer=tf.keras.optimizers.Adam(1e-4),\n",
        "              metrics=['accuracy'])"
      ]
    },
    {
      "cell_type": "markdown",
      "metadata": {
        "id": "zIwH3nto596k"
      },
      "source": [
        "## Train the model"
      ]
    },
    {
      "cell_type": "code",
      "execution_count": 18,
      "metadata": {
        "id": "hw86wWS4YgR2",
        "outputId": "f50628c6-7137-42a4-a88b-1d615b635084",
        "colab": {
          "base_uri": "https://localhost:8080/"
        }
      },
      "outputs": [
        {
          "output_type": "stream",
          "name": "stdout",
          "text": [
            "Epoch 1/10\n",
            "391/391 [==============================] - 42s 87ms/step - loss: 0.6487 - accuracy: 0.5636 - val_loss: 0.5056 - val_accuracy: 0.7234\n",
            "Epoch 2/10\n",
            "391/391 [==============================] - 35s 88ms/step - loss: 0.4060 - accuracy: 0.8154 - val_loss: 0.3623 - val_accuracy: 0.8380\n",
            "Epoch 3/10\n",
            "391/391 [==============================] - 32s 82ms/step - loss: 0.3387 - accuracy: 0.8494 - val_loss: 0.3461 - val_accuracy: 0.8510\n",
            "Epoch 4/10\n",
            "391/391 [==============================] - 33s 83ms/step - loss: 0.3170 - accuracy: 0.8615 - val_loss: 0.3278 - val_accuracy: 0.8536\n",
            "Epoch 5/10\n",
            "391/391 [==============================] - 32s 80ms/step - loss: 0.3105 - accuracy: 0.8647 - val_loss: 0.3278 - val_accuracy: 0.8531\n",
            "Epoch 6/10\n",
            "391/391 [==============================] - 32s 79ms/step - loss: 0.3044 - accuracy: 0.8691 - val_loss: 0.3285 - val_accuracy: 0.8464\n",
            "Epoch 7/10\n",
            "391/391 [==============================] - 32s 80ms/step - loss: 0.3017 - accuracy: 0.8688 - val_loss: 0.3331 - val_accuracy: 0.8375\n",
            "Epoch 8/10\n",
            "391/391 [==============================] - 31s 79ms/step - loss: 0.2984 - accuracy: 0.8716 - val_loss: 0.3259 - val_accuracy: 0.8620\n",
            "Epoch 9/10\n",
            "391/391 [==============================] - 32s 80ms/step - loss: 0.2948 - accuracy: 0.8736 - val_loss: 0.3200 - val_accuracy: 0.8656\n",
            "Epoch 10/10\n",
            "391/391 [==============================] - 32s 80ms/step - loss: 0.2947 - accuracy: 0.8733 - val_loss: 0.3203 - val_accuracy: 0.8641\n"
          ]
        }
      ],
      "source": [
        "history = model.fit(train_dataset, epochs=10,\n",
        "                    validation_data=test_dataset,\n",
        "                    validation_steps=30)"
      ]
    },
    {
      "cell_type": "code",
      "execution_count": 19,
      "metadata": {
        "id": "BaNbXi43YgUT",
        "outputId": "77ec01a3-4576-44fe-b993-bc1c4096e929",
        "colab": {
          "base_uri": "https://localhost:8080/"
        }
      },
      "outputs": [
        {
          "output_type": "stream",
          "name": "stdout",
          "text": [
            "391/391 [==============================] - 18s 46ms/step - loss: 0.3200 - accuracy: 0.8625\n",
            "Test Loss: 0.31997090578079224\n",
            "Test Accuracy: 0.8624799847602844\n"
          ]
        }
      ],
      "source": [
        "test_loss, test_acc = model.evaluate(test_dataset)\n",
        "\n",
        "print('Test Loss:', test_loss)\n",
        "print('Test Accuracy:', test_acc)"
      ]
    },
    {
      "cell_type": "code",
      "execution_count": 20,
      "metadata": {
        "id": "OZmwt_mzaQJk",
        "outputId": "a489bd5f-dd22-4ee1-b0ab-998e7bc6d8f9",
        "colab": {
          "base_uri": "https://localhost:8080/",
          "height": 518
        }
      },
      "outputs": [
        {
          "output_type": "execute_result",
          "data": {
            "text/plain": [
              "(0.0, 0.6664404079318047)"
            ]
          },
          "metadata": {},
          "execution_count": 20
        },
        {
          "output_type": "display_data",
          "data": {
            "text/plain": [
              "<Figure size 1152x576 with 2 Axes>"
            ],
            "image/png": "[encoded data removed]"
          },
          "metadata": {
            "needs_background": "light"
          }
        }
      ],
      "source": [
        "plt.figure(figsize=(16, 8))\n",
        "plt.subplot(1, 2, 1)\n",
        "plot_graphs(history, 'accuracy')\n",
        "plt.ylim(None, 1)\n",
        "plt.subplot(1, 2, 2)\n",
        "plot_graphs(history, 'loss')\n",
        "plt.ylim(0, None)"
      ]
    },
    {
      "cell_type": "markdown",
      "metadata": {
        "id": "DwSE_386uhxD"
      },
      "source": [
        "Run a prediction on a new sentence:\n",
        "\n",
        "If the prediction is >= 0.0, it is positive else it is negative."
      ]
    },
    {
      "cell_type": "code",
      "execution_count": 21,
      "metadata": {
        "id": "ZXgfQSgRW6zU"
      },
      "outputs": [],
      "source": [
        "sample_text = ('The movie was cool. The animation and the graphics '\n",
        "               'were out of this world. I would recommend this movie.')\n",
        "predictions = model.predict(np.array([sample_text]))"
      ]
    },
    {
      "cell_type": "markdown",
      "metadata": {
        "id": "7g1evcaRpTKm"
      },
      "source": [
        "## Stack two or more LSTM layers\n",
        "\n",
        "Keras recurrent layers have two available modes that are controlled by the `return_sequences` constructor argument:\n",
        "\n",
        "* If `False` it returns only the last output for each input sequence (a 2D tensor of shape (batch_size, output_features)). This is the default, used in the previous model.\n",
        "\n",
        "* If `True` the full sequences of successive outputs for each timestep is returned (a 3D tensor of shape `(batch_size, timesteps, output_features)`).\n",
        "\n",
        "Here is what the flow of information looks like with `return_sequences=True`:\n",
        "\n",
        "![layered_bidirectional](https://github.com/tensorflow/text/blob/master/docs/tutorials/images/layered_bidirectional.png?raw=1)"
      ]
    },
    {
      "cell_type": "markdown",
      "metadata": {
        "id": "wbSClCrG1z8l"
      },
      "source": [
        "The interesting thing about using an `RNN` with `return_sequences=True` is that the output still has 3-axes, like the input, so it can be passed to another RNN layer, like this:"
      ]
    },
    {
      "cell_type": "code",
      "execution_count": 22,
      "metadata": {
        "id": "jo1jjO3vn0jo"
      },
      "outputs": [],
      "source": [
        "model = tf.keras.Sequential([\n",
        "    encoder,\n",
        "    tf.keras.layers.Embedding(len(encoder.get_vocabulary()), 64, mask_zero=True),\n",
        "    tf.keras.layers.Bidirectional(tf.keras.layers.LSTM(64,  return_sequences=True)),\n",
        "    tf.keras.layers.Bidirectional(tf.keras.layers.LSTM(32)),\n",
        "    tf.keras.layers.Dense(64, activation='relu'),\n",
        "    tf.keras.layers.Dropout(0.5),\n",
        "    tf.keras.layers.Dense(1)\n",
        "])"
      ]
    },
    {
      "cell_type": "code",
      "execution_count": 23,
      "metadata": {
        "id": "hEPV5jVGp-is"
      },
      "outputs": [],
      "source": [
        "model.compile(loss=tf.keras.losses.BinaryCrossentropy(from_logits=True),\n",
        "              optimizer=tf.keras.optimizers.Adam(1e-4),\n",
        "              metrics=['accuracy'])"
      ]
    },
    {
      "cell_type": "code",
      "execution_count": 24,
      "metadata": {
        "id": "LeSE-YjdqAeN",
        "outputId": "30d14d0e-f4d2-481b-fec3-5c8d945c2235",
        "colab": {
          "base_uri": "https://localhost:8080/"
        }
      },
      "outputs": [
        {
          "output_type": "stream",
          "name": "stdout",
          "text": [
            "Epoch 1/10\n",
            "391/391 [==============================] - 70s 144ms/step - loss: 0.6236 - accuracy: 0.5977 - val_loss: 0.4471 - val_accuracy: 0.7974\n",
            "Epoch 2/10\n",
            "391/391 [==============================] - 53s 134ms/step - loss: 0.3915 - accuracy: 0.8316 - val_loss: 0.3567 - val_accuracy: 0.8401\n",
            "Epoch 3/10\n",
            "391/391 [==============================] - 53s 133ms/step - loss: 0.3383 - accuracy: 0.8551 - val_loss: 0.3438 - val_accuracy: 0.8375\n",
            "Epoch 4/10\n",
            "391/391 [==============================] - 53s 134ms/step - loss: 0.3209 - accuracy: 0.8610 - val_loss: 0.3330 - val_accuracy: 0.8422\n",
            "Epoch 5/10\n",
            "391/391 [==============================] - 53s 134ms/step - loss: 0.3135 - accuracy: 0.8662 - val_loss: 0.3279 - val_accuracy: 0.8594\n",
            "Epoch 6/10\n",
            "391/391 [==============================] - 53s 133ms/step - loss: 0.3093 - accuracy: 0.8663 - val_loss: 0.3365 - val_accuracy: 0.8594\n",
            "Epoch 7/10\n",
            "391/391 [==============================] - 53s 134ms/step - loss: 0.3039 - accuracy: 0.8697 - val_loss: 0.3183 - val_accuracy: 0.8557\n",
            "Epoch 8/10\n",
            "391/391 [==============================] - 52s 132ms/step - loss: 0.3011 - accuracy: 0.8721 - val_loss: 0.3236 - val_accuracy: 0.8516\n",
            "Epoch 9/10\n",
            "391/391 [==============================] - 53s 134ms/step - loss: 0.3044 - accuracy: 0.8682 - val_loss: 0.3156 - val_accuracy: 0.8500\n",
            "Epoch 10/10\n",
            "391/391 [==============================] - 53s 134ms/step - loss: 0.2946 - accuracy: 0.8744 - val_loss: 0.3226 - val_accuracy: 0.8464\n"
          ]
        }
      ],
      "source": [
        "history = model.fit(train_dataset, epochs=10,\n",
        "                    validation_data=test_dataset,\n",
        "                    validation_steps=30)"
      ]
    },
    {
      "cell_type": "code",
      "execution_count": 25,
      "metadata": {
        "id": "_LdwilM1qPM3",
        "outputId": "6ebdb944-4e82-48b3-d610-2d48d3ca5af5",
        "colab": {
          "base_uri": "https://localhost:8080/"
        }
      },
      "outputs": [
        {
          "output_type": "stream",
          "name": "stdout",
          "text": [
            "391/391 [==============================] - 27s 70ms/step - loss: 0.3192 - accuracy: 0.8470\n",
            "Test Loss: 0.31924179196357727\n",
            "Test Accuracy: 0.8469600081443787\n"
          ]
        }
      ],
      "source": [
        "test_loss, test_acc = model.evaluate(test_dataset)\n",
        "\n",
        "print('Test Loss:', test_loss)\n",
        "print('Test Accuracy:', test_acc)"
      ]
    },
    {
      "cell_type": "code",
      "execution_count": 26,
      "metadata": {
        "id": "ykUKnAoqbycW",
        "outputId": "66f3a1f5-d12e-4abb-a018-f4e6b1b5a959",
        "colab": {
          "base_uri": "https://localhost:8080/"
        }
      },
      "outputs": [
        {
          "output_type": "stream",
          "name": "stdout",
          "text": [
            "[[-1.8345698]]\n"
          ]
        }
      ],
      "source": [
        "# predict on a sample text without padding.\n",
        "\n",
        "sample_text = ('The movie was not good. The animation and the graphics '\n",
        "               'were terrible. I would not recommend this movie.')\n",
        "predictions = model.predict(np.array([sample_text]))\n",
        "print(predictions)"
      ]
    },
    {
      "cell_type": "code",
      "execution_count": 27,
      "metadata": {
        "id": "_YYub0EDtwCu",
        "outputId": "581eb808-99be-4a3a-b630-58a282dfcc1b",
        "colab": {
          "base_uri": "https://localhost:8080/",
          "height": 388
        }
      },
      "outputs": [
        {
          "output_type": "display_data",
          "data": {
            "text/plain": [
              "<Figure size 1152x432 with 2 Axes>"
            ],
            "image/png": "[encoded data removed]"
          },
          "metadata": {
            "needs_background": "light"
          }
        }
      ],
      "source": [
        "plt.figure(figsize=(16, 6))\n",
        "plt.subplot(1, 2, 1)\n",
        "plot_graphs(history, 'accuracy')\n",
        "plt.subplot(1, 2, 2)\n",
        "plot_graphs(history, 'loss')"
      ]
    },
    {
      "cell_type": "markdown",
      "metadata": {
        "id": "9xvpE3BaGw_V"
      },
      "source": [
        "Check out other existing recurrent layers such as [GRU layers](https://www.tensorflow.org/api_docs/python/tf/keras/layers/GRU).\n",
        "\n",
        "If you're interestied in building custom RNNs, see the [Keras RNN Guide](https://www.tensorflow.org/guide/keras/rnn).\n"
      ]
    }
  ],
  "metadata": {
    "accelerator": "GPU",
    "colab": {
      "collapsed_sections": [],
      "name": "text_classification_rnn.ipynb",
      "provenance": [],
      "toc_visible": true
    },
    "kernelspec": {
      "display_name": "Python 3",
      "name": "python3"
    }
  },
  "nbformat": 4,
  "nbformat_minor": 0
}